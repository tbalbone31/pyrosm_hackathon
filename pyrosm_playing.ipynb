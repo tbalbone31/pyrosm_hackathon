{
 "cells": [
  {
   "cell_type": "code",
   "execution_count": null,
   "metadata": {},
   "outputs": [],
   "source": [
    "from pyrosm import get_data\n",
    "# Download the data into specified directory\n",
    "fp = get_data(\"helsinki\", directory=\"data\")\n",
    "print(\"Data was downloaded to:\", fp)"
   ]
  },
  {
   "cell_type": "code",
   "execution_count": null,
   "metadata": {},
   "outputs": [],
   "source": [
    "from pyrosm.data import sources\n",
    "\n",
    "# Print available source categories\n",
    "sources.available.keys()"
   ]
  },
  {
   "cell_type": "code",
   "execution_count": null,
   "metadata": {},
   "outputs": [],
   "source": [
    "# Prints a list of countries in Africa that can be downloaded\n",
    "print(sources.africa.available)"
   ]
  },
  {
   "cell_type": "code",
   "execution_count": null,
   "metadata": {},
   "outputs": [],
   "source": [
    "# Prints a list of all cities that can be downloaded\n",
    "print(sources.cities.available)"
   ]
  },
  {
   "cell_type": "code",
   "execution_count": null,
   "metadata": {},
   "outputs": [],
   "source": [
    "# Check all countries having sub-regions\n",
    "print(\"All countries with sub-regions:\", sources.subregions.available.keys())\n",
    "\n",
    "# Check sub-regions in Brazil\n",
    "print(\"Sub-regions in Brazil:\", sources.subregions.brazil.available)\n",
    "\n",
    "# Check sub-regions in great_britain\n",
    "print(\"Sub-regions in Great Britain:\", sources.subregions.great_britain.available)\n",
    "\n",
    "# Check sub-regions in usa\n",
    "print(\"Sub-regions in USA:\", sources.subregions.usa.available)"
   ]
  },
  {
   "cell_type": "code",
   "execution_count": null,
   "metadata": {},
   "outputs": [],
   "source": [
    "# Download data for Aachen\n",
    "fp = get_data(\"Aachen\", directory=\"data\")\n",
    "print(fp)"
   ]
  },
  {
   "cell_type": "code",
   "execution_count": null,
   "metadata": {},
   "outputs": [],
   "source": [
    "# Passing names in slightly different style does not matter\n",
    "fp = get_data(\"Rio de Janeiro\")\n",
    "print(fp)"
   ]
  },
  {
   "cell_type": "code",
   "execution_count": null,
   "metadata": {},
   "outputs": [],
   "source": [
    "import pyrosm\n",
    "\n",
    "# Get filepath to test PBF dataset\n",
    "fp = pyrosm.get_data(\"test_pbf\")\n",
    "print(\"Filepath to test data:\", fp)\n",
    "\n",
    "# Initialize the OSM object\n",
    "osm = pyrosm.OSM(fp)\n",
    "\n",
    "# See the type\n",
    "print(\"Type of 'osm' instance: \", type(osm))"
   ]
  },
  {
   "cell_type": "code",
   "execution_count": null,
   "metadata": {},
   "outputs": [],
   "source": [
    "from pyrosm import OSM\n",
    "from pyrosm import get_data\n",
    "\n",
    "# Pyrosm comes with a some test datasets that can be used straight away without downloading anything\n",
    "fp = get_data(\"test_pbf\")\n",
    "\n",
    "# Initialise the OSM parser object\n",
    "osm = OSM(fp)\n",
    "\n",
    "# Read all drivable roads\n",
    "drive_net = osm.get_network(network_type=\"driving\")\n",
    "drive_net.plot()"
   ]
  },
  {
   "cell_type": "code",
   "execution_count": null,
   "metadata": {},
   "outputs": [],
   "source": [
    "# Show the first 2 rows of the network data\n",
    "drive_net.head(2)"
   ]
  },
  {
   "cell_type": "code",
   "execution_count": null,
   "metadata": {},
   "outputs": [],
   "source": [
    "from pyrosm import OSM\n",
    "from pyrosm import get_data\n",
    "\n",
    "fp = get_data(\"test_pbf\")\n",
    "# Initialise the OSM Parser object\n",
    "osm = OSM(fp)\n",
    "buildings = osm.get_buildings()\n",
    "buildings.plot()"
   ]
  },
  {
   "cell_type": "code",
   "execution_count": null,
   "metadata": {},
   "outputs": [],
   "source": [
    "# Show the first 2 records of the buildings dataframe\n",
    "buildings.head(2)"
   ]
  },
  {
   "cell_type": "code",
   "execution_count": null,
   "metadata": {},
   "outputs": [],
   "source": [
    "# Read POIs such as amenities and shops\n",
    "# =====================================\n",
    "from pyrosm import OSM\n",
    "from pyrosm import get_data\n",
    "fp = get_data(\"helsinki_pbf\")\n",
    "# Initialize the OSM parser object\n",
    "osm = OSM(fp)\n",
    "\n",
    "# Create custom filter to override default of amenity, shop and tourism\n",
    "custom_filter = {'amenity': True, 'shop': True}\n",
    "pois = osm.get_pois(custom_filter=custom_filter)\n",
    "\n",
    "# shop and amenity are two seperate variables.  To make plotting them easier, the following lines of code combine the column values into one.\n",
    "pois[\"poi_type\"] = pois[\"amenity\"]\n",
    "pois[\"poi_type\"] = pois[\"poi_type\"].fillna(pois[\"shop\"])\n",
    "\n",
    "# Plot\n",
    "ax = pois.plot(column = 'poi_type', markersize=3, figsize=(12,12),legend=True,legend_kwds=dict(loc='upper left', ncol=5, bbox_to_anchor=(1, 1)))"
   ]
  },
  {
   "cell_type": "code",
   "execution_count": null,
   "metadata": {},
   "outputs": [],
   "source": [
    "# Read landuse\n",
    "# ============\n",
    "from pyrosm import OSM\n",
    "from pyrosm import get_data\n",
    "fp = get_data(\"test_pbf\")\n",
    "# Initialize the OSM parser object\n",
    "osm = OSM(fp)\n",
    "landuse = osm.get_landuse()\n",
    "landuse.plot(column='landuse', legend=True, figsize=(10,6))"
   ]
  },
  {
   "cell_type": "code",
   "execution_count": null,
   "metadata": {},
   "outputs": [],
   "source": [
    "# Read natural\n",
    "# ============\n",
    "from pyrosm import OSM\n",
    "from pyrosm import get_data\n",
    "fp = get_data(\"helsinki_pbf\")\n",
    "# Initialize the OSM parser object\n",
    "osm = OSM(fp)\n",
    "natural = osm.get_natural()\n",
    "natural.plot(column='natural', legend=True, figsize=(10,6))"
   ]
  },
  {
   "cell_type": "code",
   "execution_count": null,
   "metadata": {},
   "outputs": [],
   "source": [
    "from pyrosm import OSM\n",
    "from pyrosm import get_data\n",
    "fp = get_data(\"helsinki_region_pbf\")\n",
    "osm = OSM(fp)\n",
    "\n",
    "# Read all boundaries using the default settings\n",
    "boundaries = osm.get_boundaries()\n",
    "boundaries.plot(facecolor=\"none\", edgecolor=\"blue\")"
   ]
  },
  {
   "cell_type": "code",
   "execution_count": null,
   "metadata": {},
   "outputs": [],
   "source": [
    "from pyrosm import OSM\n",
    "from pyrosm import get_data\n",
    "fp = get_data(\"helsinki_pbf\")\n",
    "\n",
    "# Initialize the OSM parser object with test data from Helsinki\n",
    "osm = OSM(fp)\n",
    "\n",
    "# Test reading all transit related data (bus, trains, trams, metro etc.)\n",
    "# Exclude nodes (not keeping stops, etc.)\n",
    "routes = [\"bus\", \"ferry\", \"railway\", \"subway\", \"train\", \"tram\", \"trolleybus\"]\n",
    "rails = [\"tramway\", \"light_rail\", \"rail\", \"subway\", \"tram\"]\n",
    "bus = ['yes']\n",
    "transit = osm.get_data_by_custom_criteria(custom_filter={\n",
    "                                        'route': routes,\n",
    "                                        'railway': rails,\n",
    "                                        'bus': bus,\n",
    "                                        'public_transport': True},\n",
    "                                        # Keep data matching the criteria above\n",
    "                                        filter_type=\"keep\",\n",
    "                                        # Do not keep nodes (point data)    \n",
    "                                        keep_nodes=False, \n",
    "                                        keep_ways=True, \n",
    "                                        keep_relations=True)\n",
    "transit.plot()"
   ]
  },
  {
   "cell_type": "code",
   "execution_count": null,
   "metadata": {},
   "outputs": [],
   "source": [
    "from pyrosm import OSM, get_data\n",
    "\n",
    "# Download a dataset for Greater London (update if exists in the temp already)\n",
    "fp = get_data(\"Greater London\", update=True)\n",
    "osm = OSM(fp)"
   ]
  },
  {
   "cell_type": "code",
   "execution_count": null,
   "metadata": {},
   "outputs": [],
   "source": [
    "# Read buildings\n",
    "buildings = osm.get_buildings()\n",
    "buildings.head(2)"
   ]
  },
  {
   "cell_type": "code",
   "execution_count": null,
   "metadata": {},
   "outputs": [],
   "source": [
    "# Plot the buildings (will take awhile to plot)\n",
    "buildings.plot()"
   ]
  },
  {
   "cell_type": "code",
   "execution_count": null,
   "metadata": {},
   "outputs": [],
   "source": [
    "# Get the borough of Camden as our bounding box\n",
    "bounding_box = osm.get_boundaries(name=\"London Borough of Camden\")\n",
    "bounding_box.plot()"
   ]
  },
  {
   "cell_type": "code",
   "execution_count": null,
   "metadata": {},
   "outputs": [],
   "source": [
    "# Get the shapely geometry from GeoDataFrame\n",
    "bbox_geom = bounding_box['geometry'].values[0]\n",
    "\n",
    "# Initiliaze with bounding box\n",
    "osm = OSM(fp, bounding_box=bbox_geom)"
   ]
  },
  {
   "cell_type": "code",
   "execution_count": null,
   "metadata": {},
   "outputs": [],
   "source": [
    "# Bounding box is now stored as an attribute \n",
    "osm.bounding_box"
   ]
  },
  {
   "cell_type": "code",
   "execution_count": null,
   "metadata": {},
   "outputs": [],
   "source": [
    "# Retrieve buildings for Camden\n",
    "camden = osm.get_buildings()"
   ]
  },
  {
   "cell_type": "code",
   "execution_count": null,
   "metadata": {},
   "outputs": [],
   "source": [
    "# Let's plot the buildings and specify colors according the type of the building\n",
    "ax = camden.plot(column=\"building\", figsize=(12,12), legend=True, legend_kwds=dict(loc='upper left', ncol=3, bbox_to_anchor=(1, 1)))"
   ]
  },
  {
   "cell_type": "code",
   "execution_count": null,
   "metadata": {},
   "outputs": [],
   "source": [
    "# Apply the same bounding box filter and retrieve walking network\n",
    "walk = osm.get_network(\"walking\")\n",
    "walk.plot(color=\"k\", figsize=(12,12), lw=0.7, alpha=0.6)"
   ]
  },
  {
   "cell_type": "code",
   "execution_count": null,
   "metadata": {},
   "outputs": [],
   "source": [
    "fp = get_data(\"Sheffield\", directory=\"data\")\n",
    "print(fp)"
   ]
  }
 ],
 "metadata": {
  "kernelspec": {
   "display_name": "pyrosm_hackathon",
   "language": "python",
   "name": "python3"
  },
  "language_info": {
   "codemirror_mode": {
    "name": "ipython",
    "version": 3
   },
   "file_extension": ".py",
   "mimetype": "text/x-python",
   "name": "python",
   "nbconvert_exporter": "python",
   "pygments_lexer": "ipython3",
   "version": "3.9.15"
  },
  "orig_nbformat": 4,
  "vscode": {
   "interpreter": {
    "hash": "c025aa9af881dd01fc4bd9fc662ba53de1a43ccbfd1e33ebaf0327739b417d6e"
   }
  }
 },
 "nbformat": 4,
 "nbformat_minor": 2
}
